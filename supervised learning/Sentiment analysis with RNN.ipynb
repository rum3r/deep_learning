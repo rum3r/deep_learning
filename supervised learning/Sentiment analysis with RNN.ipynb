{
 "cells": [
  {
   "cell_type": "code",
   "execution_count": 4,
   "metadata": {},
   "outputs": [],
   "source": [
    "import numpy as np\n",
    "\n",
    "import tensorflow_datasets as tfds\n",
    "import tensorflow as tf\n",
    "import os\n",
    "import shutil\n",
    "import matplotlib.pyplot as plt\n",
    "#tfds.disable_progress_bar()"
   ]
  },
  {
   "cell_type": "code",
   "execution_count": 5,
   "metadata": {},
   "outputs": [],
   "source": [
    "def plot_graphs(history, metric):\n",
    "  plt.plot(history.history[metric])\n",
    "  plt.plot(history.history['val_'+metric], '')\n",
    "  plt.xlabel(\"Epochs\")\n",
    "  plt.ylabel(metric)\n",
    "  plt.legend([metric, 'val_'+metric])"
   ]
  },
  {
   "cell_type": "code",
   "execution_count": 6,
   "metadata": {},
   "outputs": [
    {
     "data": {
      "text/plain": [
       "(TensorSpec(shape=(), dtype=tf.string, name=None),\n",
       " TensorSpec(shape=(), dtype=tf.int64, name=None))"
      ]
     },
     "execution_count": 6,
     "metadata": {},
     "output_type": "execute_result"
    }
   ],
   "source": [
    "dataset, info = tfds.load('imdb_reviews', with_info=True,\n",
    "                          as_supervised=True)\n",
    "train_dataset, test_dataset = dataset['train'], dataset['test']\n",
    "\n",
    "train_dataset.element_spec"
   ]
  },
  {
   "cell_type": "code",
   "execution_count": 7,
   "metadata": {},
   "outputs": [
    {
     "name": "stdout",
     "output_type": "stream",
     "text": [
      "text:  b\"This was an absolutely terrible movie. Don't be lured in by Christopher Walken or Michael Ironside. Both are great actors, but this must simply be their worst role in history. Even their great acting could not redeem this movie's ridiculous storyline. This movie is an early nineties US propaganda piece. The most pathetic scenes were those when the Columbian rebels were making their cases for revolutions. Maria Conchita Alonso appeared phony, and her pseudo-love affair with Walken was nothing but a pathetic emotional plug in a movie that was devoid of any real meaning. I am disappointed that there are movies like this, ruining actor's like Christopher Walken's good name. I could barely sit through it.\"\n",
      "label:  0\n"
     ]
    }
   ],
   "source": [
    "for example, label in train_dataset.take(1):\n",
    "  print('text: ', example.numpy())\n",
    "  print('label: ', label.numpy())"
   ]
  },
  {
   "cell_type": "code",
   "execution_count": 8,
   "metadata": {},
   "outputs": [],
   "source": [
    "BUFFER_SIZE = 10000\n",
    "BATCH_SIZE = 64"
   ]
  },
  {
   "cell_type": "code",
   "execution_count": 9,
   "metadata": {},
   "outputs": [],
   "source": [
    "# shuffling the data\n",
    "train_dataset = train_dataset.shuffle(BUFFER_SIZE).batch(BATCH_SIZE).prefetch(tf.data.AUTOTUNE)\n",
    "test_dataset = test_dataset.batch(BATCH_SIZE).prefetch(tf.data.AUTOTUNE)"
   ]
  },
  {
   "cell_type": "code",
   "execution_count": 36,
   "metadata": {},
   "outputs": [],
   "source": [
    "# just to avoid any i/o bottleneck\n",
    "AUTOTUNE = tf.data.AUTOTUNE\n",
    "\n",
    "train_dataset = train_dataset.cache().prefetch(buffer_size=AUTOTUNE)\n",
    "test_dataset = test_dataset.cache().prefetch(buffer_size=AUTOTUNE)"
   ]
  },
  {
   "cell_type": "code",
   "execution_count": 10,
   "metadata": {},
   "outputs": [
    {
     "name": "stdout",
     "output_type": "stream",
     "text": [
      "texts:  [b'I have just read the lead comment for this film that is on the front page with the voting results and cast run down.<br /><br />Why is it that some people can not take a film for what it is supposed to be.<br /><br />This film is supposed to be a light hearted, tonge in cheek, family comedy, things to make the kids laugh and things for the adults, and that is exactly what this film does.<br /><br />I laughed my nuts off at this film, I thought Carey put in a great performance and the whole film (if watched at Christmas) really give you a bit of festive cheer<br /><br />So to all of you film reviewers stop trying to sound like film students and knock every film because it is not \"Taxi Driver\" or \"The Godfather\" and take films for what they are supposed to be, entertainment!!'\n",
      " b'The famous international conductor Daniel Dar\\xc3\\xa9us (Michael Nyqvist) has a heart attack with his stressed busy professional life and interrupts his successful career with an early retirement. He decides to return to his hometown in the north of Sweden, from where his mother left when he was a seven year-old sensitive boy bullied by Conny and other school mates, to live a low-paced life. He buys an old school and is invited to participate in the church choir by the local Shepherd Stig (Niklas Falk), but the reluctant and shy Daniel refuses in the principle. However, he gets involved with the community and feels attracted by Lena (Frida Hallgren), a local woman with a past with the local doctor. His music opens the hearts of the members of the choir, affecting their daily life: the slow Tore (Andr\\xc3\\xa9 Sj\\xc3\\xb6berg) has the chance to participate in the choir; Inger (Ingela Olsson), the wife of Stig, releases her repressed sexuality; Gabriella (Helen Sj\\xc3\\xb6holm) takes an attitude against her abusive and violent husband; the gossiper and frustrated Siv (Ilva L\\xc3\\xb6\\xc3\\xb6f) opens her heart against Lena; the fat Holmfrid (Mikael Rahm) cries enough against the jokes of the businessman Arne (Lennart J\\xc3\\xa4hkel); even Daniel starts loving people and Lena as the love of his life. When they are invited to participate in an important contest in Vienna, Daniel finds his music opening the heart of people making his dream come true.<br /><br />\"S\\xc3\\xa5 Som I Himmelen\" is a touching and sensitive movie, with a very beautiful story. It is impressive how director Kay Pollak and the screenplay writers have been able to develop a great number of characters in 132 minutes running time. The performances are top-notch, supported by magnificent music score and at least two awesome moments: when Gabrielle sings her song in the concert, and certainly the last concert in Vienna with the audience, jury and everybody participating in the melody, and Daniel making his dream come true. Like in \"Teorema\", the stranger changes the lives, not of only a family, but of a conservative community. Further, like many European movies, the open conclusion indicates that Daniel actually died, at least in my interpretation, reaching peace with the success of his music. My eyes became wet in these two scenes. My vote is nine.<br /><br />Title (Brazil): \"A Vida no Para\\xc3\\xadso\" (\"The Life In the Paradise\")'\n",
      " b\"The film is poorly casted, except for some familiar old Hollywood names. Other performances by unknown names (i.e., Jennifer Gabrielle) are uninspiring. I have seen other films by this director, unfortunately this is one of his worst. Perhaps this is a reflection of the screenplay? <br /><br />In a positive note, Kim Bassinger's and Pat Morita's performance saved the movie from oblivion. I enjoyed Pat more in Karate Kid, though. There are many good movies to see, and in short, this one is not one of them. Save your money and the celluloid. <br /><br />Jason Vanness\"]\n",
      "\n",
      "labels:  [1 1 0]\n"
     ]
    }
   ],
   "source": [
    "for example, label in train_dataset.take(1):\n",
    "  print('texts: ', example.numpy()[:3])\n",
    "  print()\n",
    "  print('labels: ', label.numpy()[:3])"
   ]
  },
  {
   "cell_type": "code",
   "execution_count": 11,
   "metadata": {},
   "outputs": [],
   "source": [
    "VOCAB_SIZE = 1000\n",
    "encoder = tf.keras.layers.experimental.preprocessing.TextVectorization(\n",
    "    max_tokens=VOCAB_SIZE)\n",
    "encoder.adapt(train_dataset.map(lambda text, label: text))"
   ]
  },
  {
   "cell_type": "code",
   "execution_count": 12,
   "metadata": {},
   "outputs": [
    {
     "data": {
      "text/plain": [
       "array(['', '[UNK]', 'the', 'and', 'a', 'of', 'to', 'is', 'in', 'it', 'i',\n",
       "       'this', 'that', 'br', 'was', 'as', 'for', 'with', 'movie', 'but'],\n",
       "      dtype='<U14')"
      ]
     },
     "execution_count": 12,
     "metadata": {},
     "output_type": "execute_result"
    }
   ],
   "source": [
    "vocab = np.array(encoder.get_vocabulary())\n",
    "vocab[:20]"
   ]
  },
  {
   "cell_type": "code",
   "execution_count": 13,
   "metadata": {},
   "outputs": [],
   "source": [
    "##single lstm layer model\n",
    "model = tf.keras.Sequential([\n",
    "    encoder,\n",
    "    tf.keras.layers.Embedding(\n",
    "        input_dim=len(encoder.get_vocabulary()),\n",
    "        output_dim=64,\n",
    "        # Use masking to handle the variable sequence lengths\n",
    "        mask_zero=True\n",
    "    ),\n",
    "    tf.keras.layers.Bidirectional(tf.keras.layers.LSTM(64)),\n",
    "    tf.keras.layers.Dense(64, activation='relu'),\n",
    "    tf.keras.layers.Dense(1)\n",
    "])"
   ]
  },
  {
   "cell_type": "code",
   "execution_count": 14,
   "metadata": {},
   "outputs": [
    {
     "name": "stdout",
     "output_type": "stream",
     "text": [
      "Model: \"sequential\"\n",
      "_________________________________________________________________\n",
      "Layer (type)                 Output Shape              Param #   \n",
      "=================================================================\n",
      "text_vectorization (TextVect (None, None)              0         \n",
      "_________________________________________________________________\n",
      "embedding (Embedding)        (None, None, 64)          64000     \n",
      "_________________________________________________________________\n",
      "bidirectional (Bidirectional (None, 128)               66048     \n",
      "_________________________________________________________________\n",
      "dense (Dense)                (None, 64)                8256      \n",
      "_________________________________________________________________\n",
      "dense_1 (Dense)              (None, 1)                 65        \n",
      "=================================================================\n",
      "Total params: 138,369\n",
      "Trainable params: 138,369\n",
      "Non-trainable params: 0\n",
      "_________________________________________________________________\n"
     ]
    }
   ],
   "source": [
    "model.summary()"
   ]
  },
  {
   "cell_type": "code",
   "execution_count": 17,
   "metadata": {},
   "outputs": [],
   "source": [
    "model.compile(loss=tf.keras.losses.BinaryCrossentropy(from_logits=True),\n",
    "              optimizer=tf.keras.optimizers.Adam(1e-4),\n",
    "              metrics=['accuracy'])"
   ]
  },
  {
   "cell_type": "code",
   "execution_count": 18,
   "metadata": {},
   "outputs": [
    {
     "name": "stdout",
     "output_type": "stream",
     "text": [
      "Epoch 1/10\n",
      "391/391 [==============================] - 40s 91ms/step - loss: 0.6338 - accuracy: 0.5800 - val_loss: 0.4772 - val_accuracy: 0.7573\n",
      "Epoch 2/10\n",
      "391/391 [==============================] - 34s 87ms/step - loss: 0.3984 - accuracy: 0.8176 - val_loss: 0.3807 - val_accuracy: 0.8432\n",
      "Epoch 3/10\n",
      "391/391 [==============================] - 34s 88ms/step - loss: 0.3436 - accuracy: 0.8489 - val_loss: 0.3394 - val_accuracy: 0.8516\n",
      "Epoch 4/10\n",
      "391/391 [==============================] - 35s 88ms/step - loss: 0.3222 - accuracy: 0.8591 - val_loss: 0.3390 - val_accuracy: 0.8401\n",
      "Epoch 5/10\n",
      "391/391 [==============================] - 34s 88ms/step - loss: 0.3116 - accuracy: 0.8639 - val_loss: 0.3262 - val_accuracy: 0.8510\n",
      "Epoch 6/10\n",
      "391/391 [==============================] - 33s 85ms/step - loss: 0.3067 - accuracy: 0.8662 - val_loss: 0.3236 - val_accuracy: 0.8599\n",
      "Epoch 7/10\n",
      "391/391 [==============================] - 34s 88ms/step - loss: 0.3035 - accuracy: 0.8701 - val_loss: 0.3297 - val_accuracy: 0.8531\n",
      "Epoch 8/10\n",
      "391/391 [==============================] - 34s 88ms/step - loss: 0.3033 - accuracy: 0.8700 - val_loss: 0.3246 - val_accuracy: 0.8448\n",
      "Epoch 9/10\n",
      "391/391 [==============================] - 34s 88ms/step - loss: 0.2999 - accuracy: 0.8709 - val_loss: 0.3188 - val_accuracy: 0.8578\n",
      "Epoch 10/10\n",
      "391/391 [==============================] - 34s 86ms/step - loss: 0.2991 - accuracy: 0.8711 - val_loss: 0.3269 - val_accuracy: 0.8583\n"
     ]
    }
   ],
   "source": [
    "history = model.fit(train_dataset, epochs=10,\n",
    "                    validation_data=test_dataset,\n",
    "                    validation_steps=30)"
   ]
  },
  {
   "cell_type": "code",
   "execution_count": 19,
   "metadata": {},
   "outputs": [
    {
     "name": "stdout",
     "output_type": "stream",
     "text": [
      "391/391 [==============================] - 20s 50ms/step - loss: 0.3231 - accuracy: 0.8620\n",
      "Test Loss: 0.3231406509876251\n",
      "Test Accuracy: 0.8619999885559082\n"
     ]
    }
   ],
   "source": [
    "test_loss, test_acc = model.evaluate(test_dataset)\n",
    "\n",
    "print('Test Loss:', test_loss)\n",
    "print('Test Accuracy:', test_acc)"
   ]
  },
  {
   "cell_type": "code",
   "execution_count": 20,
   "metadata": {},
   "outputs": [
    {
     "data": {
      "text/plain": [
       "(0.0, 0.6505735442042351)"
      ]
     },
     "execution_count": 20,
     "metadata": {},
     "output_type": "execute_result"
    },
    {
     "data": {
      "image/png": "[encoded data removed]",
      "text/plain": [
       "<Figure size 1152x576 with 2 Axes>"
      ]
     },
     "metadata": {
      "needs_background": "light"
     },
     "output_type": "display_data"
    }
   ],
   "source": [
    "plt.figure(figsize=(16, 8))\n",
    "plt.subplot(1, 2, 1)\n",
    "plot_graphs(history, 'accuracy')\n",
    "plt.ylim(None, 1)\n",
    "plt.subplot(1, 2, 2)\n",
    "plot_graphs(history, 'loss')\n",
    "plt.ylim(0, None)"
   ]
  },
  {
   "cell_type": "code",
   "execution_count": 30,
   "metadata": {},
   "outputs": [],
   "source": [
    "##Stacking two LSTM layers \n",
    "#return sequences is true which means it will return prediction or y hat at each time step of a given sequence\n",
    "model = tf.keras.Sequential([\n",
    "    encoder,\n",
    "    tf.keras.layers.Embedding(len(encoder.get_vocabulary()), 64, mask_zero=True),\n",
    "    tf.keras.layers.Bidirectional(tf.keras.layers.LSTM(64,  return_sequences=True)),\n",
    "    tf.keras.layers.Bidirectional(tf.keras.layers.LSTM(32)),\n",
    "    tf.keras.layers.Dense(64, activation='relu'),\n",
    "    tf.keras.layers.Dropout(0.5),\n",
    "    tf.keras.layers.Dense(1)\n",
    "])"
   ]
  },
  {
   "cell_type": "code",
   "execution_count": 31,
   "metadata": {},
   "outputs": [],
   "source": [
    "model.compile(loss=tf.keras.losses.BinaryCrossentropy(from_logits=True),\n",
    "              optimizer=tf.keras.optimizers.Adam(1e-4),\n",
    "              metrics=['accuracy'])"
   ]
  },
  {
   "cell_type": "code",
   "execution_count": 32,
   "metadata": {},
   "outputs": [
    {
     "name": "stdout",
     "output_type": "stream",
     "text": [
      "Epoch 1/10\n",
      "391/391 [==============================] - 66s 148ms/step - loss: 0.6047 - accuracy: 0.6043 - val_loss: 0.4134 - val_accuracy: 0.8172\n",
      "Epoch 2/10\n",
      "391/391 [==============================] - 55s 140ms/step - loss: 0.3772 - accuracy: 0.8324 - val_loss: 0.3459 - val_accuracy: 0.8391\n",
      "Epoch 3/10\n",
      "391/391 [==============================] - 57s 146ms/step - loss: 0.3342 - accuracy: 0.8571 - val_loss: 0.3298 - val_accuracy: 0.8469\n",
      "Epoch 4/10\n",
      "391/391 [==============================] - 63s 161ms/step - loss: 0.3207 - accuracy: 0.8628 - val_loss: 0.3275 - val_accuracy: 0.8526\n",
      "Epoch 5/10\n",
      "391/391 [==============================] - 63s 160ms/step - loss: 0.3121 - accuracy: 0.8657 - val_loss: 0.3184 - val_accuracy: 0.8568\n",
      "Epoch 6/10\n",
      "391/391 [==============================] - 60s 154ms/step - loss: 0.3050 - accuracy: 0.8707 - val_loss: 0.3198 - val_accuracy: 0.8599\n",
      "Epoch 7/10\n",
      "391/391 [==============================] - 61s 157ms/step - loss: 0.3050 - accuracy: 0.8713 - val_loss: 0.3150 - val_accuracy: 0.8635\n",
      "Epoch 8/10\n",
      "391/391 [==============================] - 59s 152ms/step - loss: 0.2981 - accuracy: 0.8732 - val_loss: 0.3259 - val_accuracy: 0.8661\n",
      "Epoch 9/10\n",
      "391/391 [==============================] - 57s 146ms/step - loss: 0.2959 - accuracy: 0.8729 - val_loss: 0.3182 - val_accuracy: 0.8526\n",
      "Epoch 10/10\n",
      "391/391 [==============================] - 57s 145ms/step - loss: 0.2916 - accuracy: 0.8752 - val_loss: 0.3150 - val_accuracy: 0.8630\n"
     ]
    }
   ],
   "source": [
    "history = model.fit(train_dataset, epochs=10,\n",
    "                    validation_data=test_dataset,\n",
    "                    validation_steps=30)"
   ]
  },
  {
   "cell_type": "code",
   "execution_count": 33,
   "metadata": {},
   "outputs": [
    {
     "name": "stdout",
     "output_type": "stream",
     "text": [
      "391/391 [==============================] - 28s 72ms/step - loss: 0.3142 - accuracy: 0.8607\n",
      "Test Loss: 0.3141602873802185\n",
      "Test Accuracy: 0.8607199788093567\n"
     ]
    }
   ],
   "source": [
    "test_loss, test_acc = model.evaluate(test_dataset)\n",
    "\n",
    "print('Test Loss:', test_loss)\n",
    "print('Test Accuracy:', test_acc)"
   ]
  },
  {
   "cell_type": "code",
   "execution_count": 34,
   "metadata": {},
   "outputs": [
    {
     "data": {
      "image/png": "[encoded data removed]",
      "text/plain": [
       "<Figure size 1152x432 with 2 Axes>"
      ]
     },
     "metadata": {
      "needs_background": "light"
     },
     "output_type": "display_data"
    }
   ],
   "source": [
    "plt.figure(figsize=(16, 6))\n",
    "plt.subplot(1, 2, 1)\n",
    "plot_graphs(history, 'accuracy')\n",
    "plt.subplot(1, 2, 2)\n",
    "plot_graphs(history, 'loss')"
   ]
  },
  {
   "cell_type": "code",
   "execution_count": null,
   "metadata": {},
   "outputs": [],
   "source": []
  },
  {
   "cell_type": "code",
   "execution_count": null,
   "metadata": {},
   "outputs": [],
   "source": []
  },
  {
   "cell_type": "code",
   "execution_count": null,
   "metadata": {},
   "outputs": [],
   "source": []
  }
 ],
 "metadata": {
  "kernelspec": {
   "display_name": "tensorflow_env",
   "language": "python",
   "name": "tensorflow_env"
  },
  "language_info": {
   "codemirror_mode": {
    "name": "ipython",
    "version": 3
   },
   "file_extension": ".py",
   "mimetype": "text/x-python",
   "name": "python",
   "nbconvert_exporter": "python",
   "pygments_lexer": "ipython3",
   "version": "3.8.5"
  }
 },
 "nbformat": 4,
 "nbformat_minor": 5
}
